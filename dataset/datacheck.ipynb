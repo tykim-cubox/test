{
 "cells": [
  {
   "cell_type": "code",
   "execution_count": 8,
   "metadata": {},
   "outputs": [],
   "source": [
    "from decord import VideoReader, cpu\n",
    "import numpy as np"
   ]
  },
  {
   "cell_type": "code",
   "execution_count": 5,
   "metadata": {},
   "outputs": [],
   "source": [
    "def loadvideo_decord(sample, sample_rate_scale=1):\n",
    "    \"\"\"Load video content using Decord\"\"\"\n",
    "    # pylint: disable=line-too-long, bare-except, unnecessary-comprehension\n",
    "    fname = self.data_path + sample\n",
    "\n",
    "    if not (os.path.exists(fname)):\n",
    "        return []\n",
    "\n",
    "    # avoid hanging issue\n",
    "    if os.path.getsize(fname) < 1 * 1024:\n",
    "        print('SKIP: ', fname, \" - \", os.path.getsize(fname))\n",
    "        return []\n",
    "    try:\n",
    "        if self.keep_aspect_ratio:\n",
    "            vr = VideoReader(fname, num_threads=1, ctx=cpu(0))\n",
    "        else:\n",
    "            vr = VideoReader(fname, width=self.new_width, height=self.new_height,\n",
    "                              num_threads=1, ctx=cpu(0))\n",
    "    except:\n",
    "        print(\"video cannot be loaded by decord: \", fname)\n",
    "        return []\n",
    "\n",
    "    converted_len = int(self.clip_len * self.frame_sample_rate)\n",
    "    seg_len = len(vr) // self.num_segment\n",
    "\n",
    "    all_index = []\n",
    "    for i in range(self.num_segment):\n",
    "        if seg_len <= converted_len:\n",
    "            index = np.linspace(0, seg_len, num=seg_len // self.frame_sample_rate)\n",
    "            index = np.concatenate((index, np.ones(self.clip_len - seg_len // self.frame_sample_rate) * seg_len))\n",
    "            index = np.clip(index, 0, seg_len - 1).astype(np.int64)\n",
    "        else:\n",
    "            end_idx = np.random.randint(converted_len, seg_len)\n",
    "            str_idx = end_idx - converted_len\n",
    "            index = np.linspace(str_idx, end_idx, num=self.clip_len)\n",
    "            index = np.clip(index, str_idx, end_idx - 1).astype(np.int64)\n",
    "        index = index + i*seg_len\n",
    "        all_index.extend(list(index))\n",
    "\n",
    "    all_index = all_index[::int(sample_rate_scale)]\n",
    "    vr.seek(0)\n",
    "    buffer = vr.get_batch(all_index).asnumpy()\n",
    "    return buffer"
   ]
  },
  {
   "cell_type": "code",
   "execution_count": 7,
   "metadata": {},
   "outputs": [],
   "source": [
    "vid_path = '/home/aiteam/tykim/video_recog/dataset/mix_dataset/train/train_1086.mp4'\n",
    "vr = VideoReader(vid_path, num_threads=1, ctx=cpu(0))\n",
    "# buf = loadvideo_decord(vid_path)"
   ]
  },
  {
   "cell_type": "code",
   "execution_count": 11,
   "metadata": {},
   "outputs": [],
   "source": [
    "buffer = vr.get_batch([1,2,3,4,5]).asnumpy()"
   ]
  },
  {
   "cell_type": "code",
   "execution_count": 13,
   "metadata": {},
   "outputs": [
    {
     "data": {
      "text/plain": [
       "(5, 720, 1280, 3)"
      ]
     },
     "execution_count": 13,
     "metadata": {},
     "output_type": "execute_result"
    }
   ],
   "source": [
    "buffer.shape"
   ]
  },
  {
   "cell_type": "code",
   "execution_count": null,
   "metadata": {},
   "outputs": [],
   "source": [
    "/home/aiteam/tykim/video_recog/gluon-cv/gluoncv/torch/data/video_cls/dataset_classification.py\n",
    "\n",
    "\n",
    "\n",
    "for ..gluon-cv import glu"
   ]
  }
 ],
 "metadata": {
  "kernelspec": {
   "display_name": "Python 3.7.13 ('hybrik')",
   "language": "python",
   "name": "python3"
  },
  "language_info": {
   "codemirror_mode": {
    "name": "ipython",
    "version": 3
   },
   "file_extension": ".py",
   "mimetype": "text/x-python",
   "name": "python",
   "nbconvert_exporter": "python",
   "pygments_lexer": "ipython3",
   "version": "3.7.13"
  },
  "orig_nbformat": 4,
  "vscode": {
   "interpreter": {
    "hash": "1e217b4c5fb9259235ccea530538be9833dd50f812ad2e8bc6672c6e5349c3fe"
   }
  }
 },
 "nbformat": 4,
 "nbformat_minor": 2
}
